{
 "cells": [
  {
   "cell_type": "code",
   "execution_count": 1,
   "metadata": {
    "collapsed": true
   },
   "outputs": [],
   "source": [
    "%matplotlib inline\n",
    "from matplotlib.ticker import FuncFormatter\n",
    "import matplotlib.patches as mpatches\n",
    "import matplotlib.pyplot as plt\n",
    "import pandas as pd\n",
    "import mpld3\n",
    "\n",
    "colors = ['#9ACBCB', '#2F2F31', '#B8A7D6', '#FFF39D', '#3296FF', '#F5A445']"
   ]
  },
  {
   "cell_type": "code",
   "execution_count": 2,
   "metadata": {
    "collapsed": true
   },
   "outputs": [],
   "source": [
    "input_csv = '../../data/mock/wog_overview_level3_FY-ALL.csv'\n",
    "df = pd.read_csv(input_csv)"
   ]
  },
  {
   "cell_type": "code",
   "execution_count": 3,
   "metadata": {},
   "outputs": [
    {
     "name": "stdout",
     "output_type": "stream",
     "text": [
      "                 Service Classification  Sum of Total Financial Year\n",
      "0                      Accounts Payable       1100000        2014-15\n",
      "1                      Accounts Payable       1000000        2015-16\n",
      "2                   Accounts Receivable        520000        2014-15\n",
      "3                   Accounts Receivable        530000        2015-16\n",
      "4                      Asset Management        200000        2014-15\n",
      "5                      Asset Management        210000        2015-16\n",
      "6                             Budgeting       2600000        2014-15\n",
      "7                             Budgeting       3300000        2015-16\n",
      "8   Contract Management and Procurement       1900000        2014-15\n",
      "9   Contract Management and Procurement       1850000        2015-16\n",
      "10               Credit Card Management        420000        2014-15\n",
      "11               Credit Card Management        450000        2015-16\n",
      "12          Financial Policy and Advice        420000        2014-15\n",
      "13          Financial Policy and Advice        410000        2015-16\n",
      "14                  Financial Reporting       2400000        2014-15\n",
      "15                  Financial Reporting       2700000        2015-16\n",
      "16                    Ledger Management        970000        2014-15\n",
      "17                    Ledger Management       1300000        2015-16\n",
      "18                             Taxation        200000        2014-15\n",
      "19                             Taxation        210000        2015-16\n",
      "20                               Travel        970000        2014-15\n",
      "21                               Travel       1300000        2015-16\n",
      "22                             Treasury        300000        2014-15\n",
      "23                             Treasury        300000        2015-16\n"
     ]
    }
   ],
   "source": [
    "print(df)"
   ]
  },
  {
   "cell_type": "code",
   "execution_count": 9,
   "metadata": {},
   "outputs": [
    {
     "data": {
      "text/html": [
       "\n",
       "\n",
       "<style>\n",
       "\n",
       "</style>\n",
       "\n",
       "<div id=\"fig_el499946550309601212597226\"></div>\n",
       "<script>\n",
       "function mpld3_load_lib(url, callback){\n",
       "  var s = document.createElement('script');\n",
       "  s.src = url;\n",
       "  s.async = true;\n",
       "  s.onreadystatechange = s.onload = callback;\n",
       "  s.onerror = function(){console.warn(\"failed to load library \" + url);};\n",
       "  document.getElementsByTagName(\"head\")[0].appendChild(s);\n",
       "}\n",
       "\n",
       "if(typeof(mpld3) !== \"undefined\" && mpld3._mpld3IsLoaded){\n",
       "   // already loaded: just create the figure\n",
       "   !function(mpld3){\n",
       "       \n",
       "       mpld3.draw_figure(\"fig_el499946550309601212597226\", {\"width\": 1080.0, \"height\": 432.0, \"axes\": [{\"bbox\": [0.125, 0.125, 0.775, 0.755], \"xlim\": [-0.8194999999999999, 11.8195], \"ylim\": [0.0, 3465000.0], \"xdomain\": [-0.8194999999999999, 11.8195], \"ydomain\": [0.0, 3465000.0], \"xscale\": \"linear\", \"yscale\": \"linear\", \"axes\": [{\"position\": \"bottom\", \"nticks\": 12, \"tickvalues\": [0, 1, 2, 3, 4, 5, 6, 7, 8, 9, 10, 11], \"tickformat\": [\"Accounts Payable\", \"Accounts Receivable\", \"Asset Management\", \"Budgeting\", \"Contract Management and Procurement\", \"Credit Card Management\", \"Financial Policy and Advice\", \"Financial Reporting\", \"Ledger Management\", \"Taxation\", \"Travel\", \"Treasury\"], \"scale\": \"linear\", \"fontsize\": 14.0, \"grid\": {\"gridOn\": false}, \"visible\": true}, {\"position\": \"left\", \"nticks\": 8, \"tickvalues\": null, \"tickformat\": null, \"scale\": \"linear\", \"fontsize\": 14.0, \"grid\": {\"gridOn\": false}, \"visible\": true}], \"axesbg\": \"#FFFFFF\", \"axesbgalpha\": null, \"zoomable\": true, \"id\": \"el49994655489656\", \"lines\": [], \"paths\": [{\"data\": \"data01\", \"xindex\": 0, \"yindex\": 1, \"coordinates\": \"data\", \"pathcodes\": [\"M\", \"L\", \"L\", \"L\", \"Z\"], \"id\": \"el49994657806864\", \"dasharray\": \"none\", \"alpha\": 1, \"facecolor\": \"#579CD0\", \"edgecolor\": \"none\", \"edgewidth\": 1.0, \"zorder\": 2}, {\"data\": \"data02\", \"xindex\": 0, \"yindex\": 1, \"coordinates\": \"data\", \"pathcodes\": [\"M\", \"L\", \"L\", \"L\", \"Z\"], \"id\": \"el49994657845528\", \"dasharray\": \"none\", \"alpha\": 1, \"facecolor\": \"#579CD0\", \"edgecolor\": \"none\", \"edgewidth\": 1.0, \"zorder\": 2}, {\"data\": \"data03\", \"xindex\": 0, \"yindex\": 1, \"coordinates\": \"data\", \"pathcodes\": [\"M\", \"L\", \"L\", \"L\", \"Z\"], \"id\": \"el49994657847824\", \"dasharray\": \"none\", \"alpha\": 1, \"facecolor\": \"#579CD0\", \"edgecolor\": \"none\", \"edgewidth\": 1.0, \"zorder\": 2}, {\"data\": \"data04\", \"xindex\": 0, \"yindex\": 1, \"coordinates\": \"data\", \"pathcodes\": [\"M\", \"L\", \"L\", \"L\", \"Z\"], \"id\": \"el49994657870608\", \"dasharray\": \"none\", \"alpha\": 1, \"facecolor\": \"#579CD0\", \"edgecolor\": \"none\", \"edgewidth\": 1.0, \"zorder\": 2}, {\"data\": \"data05\", \"xindex\": 0, \"yindex\": 1, \"coordinates\": \"data\", \"pathcodes\": [\"M\", \"L\", \"L\", \"L\", \"Z\"], \"id\": \"el49994657872848\", \"dasharray\": \"none\", \"alpha\": 1, \"facecolor\": \"#579CD0\", \"edgecolor\": \"none\", \"edgewidth\": 1.0, \"zorder\": 2}, {\"data\": \"data06\", \"xindex\": 0, \"yindex\": 1, \"coordinates\": \"data\", \"pathcodes\": [\"M\", \"L\", \"L\", \"L\", \"Z\"], \"id\": \"el49994657907920\", \"dasharray\": \"none\", \"alpha\": 1, \"facecolor\": \"#579CD0\", \"edgecolor\": \"none\", \"edgewidth\": 1.0, \"zorder\": 2}, {\"data\": \"data06\", \"xindex\": 2, \"yindex\": 1, \"coordinates\": \"data\", \"pathcodes\": [\"M\", \"L\", \"L\", \"L\", \"Z\"], \"id\": \"el49994657947032\", \"dasharray\": \"none\", \"alpha\": 1, \"facecolor\": \"#579CD0\", \"edgecolor\": \"none\", \"edgewidth\": 1.0, \"zorder\": 2}, {\"data\": \"data07\", \"xindex\": 0, \"yindex\": 1, \"coordinates\": \"data\", \"pathcodes\": [\"M\", \"L\", \"L\", \"L\", \"Z\"], \"id\": \"el49994657949328\", \"dasharray\": \"none\", \"alpha\": 1, \"facecolor\": \"#579CD0\", \"edgecolor\": \"none\", \"edgewidth\": 1.0, \"zorder\": 2}, {\"data\": \"data08\", \"xindex\": 0, \"yindex\": 1, \"coordinates\": \"data\", \"pathcodes\": [\"M\", \"L\", \"L\", \"L\", \"Z\"], \"id\": \"el49994657976152\", \"dasharray\": \"none\", \"alpha\": 1, \"facecolor\": \"#579CD0\", \"edgecolor\": \"none\", \"edgewidth\": 1.0, \"zorder\": 2}, {\"data\": \"data03\", \"xindex\": 2, \"yindex\": 1, \"coordinates\": \"data\", \"pathcodes\": [\"M\", \"L\", \"L\", \"L\", \"Z\"], \"id\": \"el49994657978448\", \"dasharray\": \"none\", \"alpha\": 1, \"facecolor\": \"#579CD0\", \"edgecolor\": \"none\", \"edgewidth\": 1.0, \"zorder\": 2}, {\"data\": \"data08\", \"xindex\": 2, \"yindex\": 1, \"coordinates\": \"data\", \"pathcodes\": [\"M\", \"L\", \"L\", \"L\", \"Z\"], \"id\": \"el49994658005272\", \"dasharray\": \"none\", \"alpha\": 1, \"facecolor\": \"#579CD0\", \"edgecolor\": \"none\", \"edgewidth\": 1.0, \"zorder\": 2}, {\"data\": \"data09\", \"xindex\": 0, \"yindex\": 1, \"coordinates\": \"data\", \"pathcodes\": [\"M\", \"L\", \"L\", \"L\", \"Z\"], \"id\": \"el49994658007568\", \"dasharray\": \"none\", \"alpha\": 1, \"facecolor\": \"#579CD0\", \"edgecolor\": \"none\", \"edgewidth\": 1.0, \"zorder\": 2}, {\"data\": \"data10\", \"xindex\": 0, \"yindex\": 1, \"coordinates\": \"data\", \"pathcodes\": [\"M\", \"L\", \"L\", \"L\", \"Z\"], \"id\": \"el49994658034448\", \"dasharray\": \"none\", \"alpha\": 1, \"facecolor\": \"#F17C40\", \"edgecolor\": \"none\", \"edgewidth\": 1.0, \"zorder\": 2}, {\"data\": \"data11\", \"xindex\": 0, \"yindex\": 1, \"coordinates\": \"data\", \"pathcodes\": [\"M\", \"L\", \"L\", \"L\", \"Z\"], \"id\": \"el49994658036464\", \"dasharray\": \"none\", \"alpha\": 1, \"facecolor\": \"#F17C40\", \"edgecolor\": \"none\", \"edgewidth\": 1.0, \"zorder\": 2}, {\"data\": \"data12\", \"xindex\": 0, \"yindex\": 1, \"coordinates\": \"data\", \"pathcodes\": [\"M\", \"L\", \"L\", \"L\", \"Z\"], \"id\": \"el49994657560152\", \"dasharray\": \"none\", \"alpha\": 1, \"facecolor\": \"#F17C40\", \"edgecolor\": \"none\", \"edgewidth\": 1.0, \"zorder\": 2}, {\"data\": \"data13\", \"xindex\": 0, \"yindex\": 1, \"coordinates\": \"data\", \"pathcodes\": [\"M\", \"L\", \"L\", \"L\", \"Z\"], \"id\": \"el49994655557880\", \"dasharray\": \"none\", \"alpha\": 1, \"facecolor\": \"#F17C40\", \"edgecolor\": \"none\", \"edgewidth\": 1.0, \"zorder\": 2}, {\"data\": \"data14\", \"xindex\": 0, \"yindex\": 1, \"coordinates\": \"data\", \"pathcodes\": [\"M\", \"L\", \"L\", \"L\", \"Z\"], \"id\": \"el49994657465888\", \"dasharray\": \"none\", \"alpha\": 1, \"facecolor\": \"#F17C40\", \"edgecolor\": \"none\", \"edgewidth\": 1.0, \"zorder\": 2}, {\"data\": \"data15\", \"xindex\": 0, \"yindex\": 1, \"coordinates\": \"data\", \"pathcodes\": [\"M\", \"L\", \"L\", \"L\", \"Z\"], \"id\": \"el49994657466000\", \"dasharray\": \"none\", \"alpha\": 1, \"facecolor\": \"#F17C40\", \"edgecolor\": \"none\", \"edgewidth\": 1.0, \"zorder\": 2}, {\"data\": \"data16\", \"xindex\": 0, \"yindex\": 1, \"coordinates\": \"data\", \"pathcodes\": [\"M\", \"L\", \"L\", \"L\", \"Z\"], \"id\": \"el49994645037840\", \"dasharray\": \"none\", \"alpha\": 1, \"facecolor\": \"#F17C40\", \"edgecolor\": \"none\", \"edgewidth\": 1.0, \"zorder\": 2}, {\"data\": \"data17\", \"xindex\": 0, \"yindex\": 1, \"coordinates\": \"data\", \"pathcodes\": [\"M\", \"L\", \"L\", \"L\", \"Z\"], \"id\": \"el49994658081632\", \"dasharray\": \"none\", \"alpha\": 1, \"facecolor\": \"#F17C40\", \"edgecolor\": \"none\", \"edgewidth\": 1.0, \"zorder\": 2}, {\"data\": \"data18\", \"xindex\": 0, \"yindex\": 1, \"coordinates\": \"data\", \"pathcodes\": [\"M\", \"L\", \"L\", \"L\", \"Z\"], \"id\": \"el49994658124896\", \"dasharray\": \"none\", \"alpha\": 1, \"facecolor\": \"#F17C40\", \"edgecolor\": \"none\", \"edgewidth\": 1.0, \"zorder\": 2}, {\"data\": \"data12\", \"xindex\": 2, \"yindex\": 1, \"coordinates\": \"data\", \"pathcodes\": [\"M\", \"L\", \"L\", \"L\", \"Z\"], \"id\": \"el49994658151720\", \"dasharray\": \"none\", \"alpha\": 1, \"facecolor\": \"#F17C40\", \"edgecolor\": \"none\", \"edgewidth\": 1.0, \"zorder\": 2}, {\"data\": \"data18\", \"xindex\": 2, \"yindex\": 1, \"coordinates\": \"data\", \"pathcodes\": [\"M\", \"L\", \"L\", \"L\", \"Z\"], \"id\": \"el49994658154016\", \"dasharray\": \"none\", \"alpha\": 1, \"facecolor\": \"#F17C40\", \"edgecolor\": \"none\", \"edgewidth\": 1.0, \"zorder\": 2}, {\"data\": \"data09\", \"xindex\": 2, \"yindex\": 1, \"coordinates\": \"data\", \"pathcodes\": [\"M\", \"L\", \"L\", \"L\", \"Z\"], \"id\": \"el49994658184936\", \"dasharray\": \"none\", \"alpha\": 1, \"facecolor\": \"#F17C40\", \"edgecolor\": \"none\", \"edgewidth\": 1.0, \"zorder\": 2}], \"markers\": [], \"texts\": [], \"collections\": [], \"images\": [], \"sharex\": [], \"sharey\": []}], \"data\": {\"data01\": [[-0.245, 0.0], [0.0050000000000000044, 0.0], [0.0050000000000000044, 1100000.0], [-0.245, 1100000.0]], \"data02\": [[0.755, 0.0], [1.005, 0.0], [1.005, 520000.0], [0.755, 520000.0]], \"data03\": [[1.755, 0.0, 8.755], [2.005, 0.0, 9.005], [2.005, 200000.0, 9.005], [1.755, 200000.0, 8.755]], \"data04\": [[2.755, 0.0], [3.005, 0.0], [3.005, 2600000.0], [2.755, 2600000.0]], \"data05\": [[3.755, 0.0], [4.005, 0.0], [4.005, 1900000.0], [3.755, 1900000.0]], \"data06\": [[4.755, 0.0, 5.755], [5.005, 0.0, 6.005], [5.005, 420000.0, 6.005], [4.755, 420000.0, 5.755]], \"data07\": [[6.755, 0.0], [7.005, 0.0], [7.005, 2400000.0], [6.755, 2400000.0]], \"data08\": [[7.755, 0.0, 9.755], [8.004999999999999, 0.0, 10.005], [8.004999999999999, 970000.0, 10.005], [7.755, 970000.0, 9.755]], \"data09\": [[10.755, 0.0, 10.995], [11.005, 0.0, 11.245], [11.005, 300000.0, 11.245], [10.755, 300000.0, 10.995]], \"data10\": [[-0.0050000000000000044, 0.0], [0.245, 0.0], [0.245, 1000000.0], [-0.0050000000000000044, 1000000.0]], \"data11\": [[0.9950000000000001, 0.0], [1.245, 0.0], [1.245, 530000.0], [0.9950000000000001, 530000.0]], \"data12\": [[1.995, 0.0, 8.995], [2.245, 0.0, 9.245], [2.245, 210000.0, 9.245], [1.995, 210000.0, 8.995]], \"data13\": [[2.995, 0.0], [3.245, 0.0], [3.245, 3300000.0], [2.995, 3300000.0]], \"data14\": [[3.995, 0.0], [4.245, 0.0], [4.245, 1850000.0], [3.995, 1850000.0]], \"data15\": [[4.995, 0.0], [5.245, 0.0], [5.245, 450000.0], [4.995, 450000.0]], \"data16\": [[5.995, 0.0], [6.245, 0.0], [6.245, 410000.0], [5.995, 410000.0]], \"data17\": [[6.995, 0.0], [7.245, 0.0], [7.245, 2700000.0], [6.995, 2700000.0]], \"data18\": [[7.994999999999999, 0.0, 9.995], [8.245, 0.0, 10.245], [8.245, 1300000.0, 10.245], [7.994999999999999, 1300000.0, 9.995]]}, \"id\": \"el49994655030960\", \"plugins\": [{\"type\": \"reset\"}, {\"type\": \"zoom\", \"button\": true, \"enabled\": false}, {\"type\": \"boxzoom\", \"button\": true, \"enabled\": false}]});\n",
       "   }(mpld3);\n",
       "}else if(typeof define === \"function\" && define.amd){\n",
       "   // require.js is available: use it to load d3/mpld3\n",
       "   require.config({paths: {d3: \"https://mpld3.github.io/js/d3.v3.min\"}});\n",
       "   require([\"d3\"], function(d3){\n",
       "      window.d3 = d3;\n",
       "      mpld3_load_lib(\"https://mpld3.github.io/js/mpld3.v0.3.js\", function(){\n",
       "         \n",
       "         mpld3.draw_figure(\"fig_el499946550309601212597226\", {\"width\": 1080.0, \"height\": 432.0, \"axes\": [{\"bbox\": [0.125, 0.125, 0.775, 0.755], \"xlim\": [-0.8194999999999999, 11.8195], \"ylim\": [0.0, 3465000.0], \"xdomain\": [-0.8194999999999999, 11.8195], \"ydomain\": [0.0, 3465000.0], \"xscale\": \"linear\", \"yscale\": \"linear\", \"axes\": [{\"position\": \"bottom\", \"nticks\": 12, \"tickvalues\": [0, 1, 2, 3, 4, 5, 6, 7, 8, 9, 10, 11], \"tickformat\": [\"Accounts Payable\", \"Accounts Receivable\", \"Asset Management\", \"Budgeting\", \"Contract Management and Procurement\", \"Credit Card Management\", \"Financial Policy and Advice\", \"Financial Reporting\", \"Ledger Management\", \"Taxation\", \"Travel\", \"Treasury\"], \"scale\": \"linear\", \"fontsize\": 14.0, \"grid\": {\"gridOn\": false}, \"visible\": true}, {\"position\": \"left\", \"nticks\": 8, \"tickvalues\": null, \"tickformat\": null, \"scale\": \"linear\", \"fontsize\": 14.0, \"grid\": {\"gridOn\": false}, \"visible\": true}], \"axesbg\": \"#FFFFFF\", \"axesbgalpha\": null, \"zoomable\": true, \"id\": \"el49994655489656\", \"lines\": [], \"paths\": [{\"data\": \"data01\", \"xindex\": 0, \"yindex\": 1, \"coordinates\": \"data\", \"pathcodes\": [\"M\", \"L\", \"L\", \"L\", \"Z\"], \"id\": \"el49994657806864\", \"dasharray\": \"none\", \"alpha\": 1, \"facecolor\": \"#579CD0\", \"edgecolor\": \"none\", \"edgewidth\": 1.0, \"zorder\": 2}, {\"data\": \"data02\", \"xindex\": 0, \"yindex\": 1, \"coordinates\": \"data\", \"pathcodes\": [\"M\", \"L\", \"L\", \"L\", \"Z\"], \"id\": \"el49994657845528\", \"dasharray\": \"none\", \"alpha\": 1, \"facecolor\": \"#579CD0\", \"edgecolor\": \"none\", \"edgewidth\": 1.0, \"zorder\": 2}, {\"data\": \"data03\", \"xindex\": 0, \"yindex\": 1, \"coordinates\": \"data\", \"pathcodes\": [\"M\", \"L\", \"L\", \"L\", \"Z\"], \"id\": \"el49994657847824\", \"dasharray\": \"none\", \"alpha\": 1, \"facecolor\": \"#579CD0\", \"edgecolor\": \"none\", \"edgewidth\": 1.0, \"zorder\": 2}, {\"data\": \"data04\", \"xindex\": 0, \"yindex\": 1, \"coordinates\": \"data\", \"pathcodes\": [\"M\", \"L\", \"L\", \"L\", \"Z\"], \"id\": \"el49994657870608\", \"dasharray\": \"none\", \"alpha\": 1, \"facecolor\": \"#579CD0\", \"edgecolor\": \"none\", \"edgewidth\": 1.0, \"zorder\": 2}, {\"data\": \"data05\", \"xindex\": 0, \"yindex\": 1, \"coordinates\": \"data\", \"pathcodes\": [\"M\", \"L\", \"L\", \"L\", \"Z\"], \"id\": \"el49994657872848\", \"dasharray\": \"none\", \"alpha\": 1, \"facecolor\": \"#579CD0\", \"edgecolor\": \"none\", \"edgewidth\": 1.0, \"zorder\": 2}, {\"data\": \"data06\", \"xindex\": 0, \"yindex\": 1, \"coordinates\": \"data\", \"pathcodes\": [\"M\", \"L\", \"L\", \"L\", \"Z\"], \"id\": \"el49994657907920\", \"dasharray\": \"none\", \"alpha\": 1, \"facecolor\": \"#579CD0\", \"edgecolor\": \"none\", \"edgewidth\": 1.0, \"zorder\": 2}, {\"data\": \"data06\", \"xindex\": 2, \"yindex\": 1, \"coordinates\": \"data\", \"pathcodes\": [\"M\", \"L\", \"L\", \"L\", \"Z\"], \"id\": \"el49994657947032\", \"dasharray\": \"none\", \"alpha\": 1, \"facecolor\": \"#579CD0\", \"edgecolor\": \"none\", \"edgewidth\": 1.0, \"zorder\": 2}, {\"data\": \"data07\", \"xindex\": 0, \"yindex\": 1, \"coordinates\": \"data\", \"pathcodes\": [\"M\", \"L\", \"L\", \"L\", \"Z\"], \"id\": \"el49994657949328\", \"dasharray\": \"none\", \"alpha\": 1, \"facecolor\": \"#579CD0\", \"edgecolor\": \"none\", \"edgewidth\": 1.0, \"zorder\": 2}, {\"data\": \"data08\", \"xindex\": 0, \"yindex\": 1, \"coordinates\": \"data\", \"pathcodes\": [\"M\", \"L\", \"L\", \"L\", \"Z\"], \"id\": \"el49994657976152\", \"dasharray\": \"none\", \"alpha\": 1, \"facecolor\": \"#579CD0\", \"edgecolor\": \"none\", \"edgewidth\": 1.0, \"zorder\": 2}, {\"data\": \"data03\", \"xindex\": 2, \"yindex\": 1, \"coordinates\": \"data\", \"pathcodes\": [\"M\", \"L\", \"L\", \"L\", \"Z\"], \"id\": \"el49994657978448\", \"dasharray\": \"none\", \"alpha\": 1, \"facecolor\": \"#579CD0\", \"edgecolor\": \"none\", \"edgewidth\": 1.0, \"zorder\": 2}, {\"data\": \"data08\", \"xindex\": 2, \"yindex\": 1, \"coordinates\": \"data\", \"pathcodes\": [\"M\", \"L\", \"L\", \"L\", \"Z\"], \"id\": \"el49994658005272\", \"dasharray\": \"none\", \"alpha\": 1, \"facecolor\": \"#579CD0\", \"edgecolor\": \"none\", \"edgewidth\": 1.0, \"zorder\": 2}, {\"data\": \"data09\", \"xindex\": 0, \"yindex\": 1, \"coordinates\": \"data\", \"pathcodes\": [\"M\", \"L\", \"L\", \"L\", \"Z\"], \"id\": \"el49994658007568\", \"dasharray\": \"none\", \"alpha\": 1, \"facecolor\": \"#579CD0\", \"edgecolor\": \"none\", \"edgewidth\": 1.0, \"zorder\": 2}, {\"data\": \"data10\", \"xindex\": 0, \"yindex\": 1, \"coordinates\": \"data\", \"pathcodes\": [\"M\", \"L\", \"L\", \"L\", \"Z\"], \"id\": \"el49994658034448\", \"dasharray\": \"none\", \"alpha\": 1, \"facecolor\": \"#F17C40\", \"edgecolor\": \"none\", \"edgewidth\": 1.0, \"zorder\": 2}, {\"data\": \"data11\", \"xindex\": 0, \"yindex\": 1, \"coordinates\": \"data\", \"pathcodes\": [\"M\", \"L\", \"L\", \"L\", \"Z\"], \"id\": \"el49994658036464\", \"dasharray\": \"none\", \"alpha\": 1, \"facecolor\": \"#F17C40\", \"edgecolor\": \"none\", \"edgewidth\": 1.0, \"zorder\": 2}, {\"data\": \"data12\", \"xindex\": 0, \"yindex\": 1, \"coordinates\": \"data\", \"pathcodes\": [\"M\", \"L\", \"L\", \"L\", \"Z\"], \"id\": \"el49994657560152\", \"dasharray\": \"none\", \"alpha\": 1, \"facecolor\": \"#F17C40\", \"edgecolor\": \"none\", \"edgewidth\": 1.0, \"zorder\": 2}, {\"data\": \"data13\", \"xindex\": 0, \"yindex\": 1, \"coordinates\": \"data\", \"pathcodes\": [\"M\", \"L\", \"L\", \"L\", \"Z\"], \"id\": \"el49994655557880\", \"dasharray\": \"none\", \"alpha\": 1, \"facecolor\": \"#F17C40\", \"edgecolor\": \"none\", \"edgewidth\": 1.0, \"zorder\": 2}, {\"data\": \"data14\", \"xindex\": 0, \"yindex\": 1, \"coordinates\": \"data\", \"pathcodes\": [\"M\", \"L\", \"L\", \"L\", \"Z\"], \"id\": \"el49994657465888\", \"dasharray\": \"none\", \"alpha\": 1, \"facecolor\": \"#F17C40\", \"edgecolor\": \"none\", \"edgewidth\": 1.0, \"zorder\": 2}, {\"data\": \"data15\", \"xindex\": 0, \"yindex\": 1, \"coordinates\": \"data\", \"pathcodes\": [\"M\", \"L\", \"L\", \"L\", \"Z\"], \"id\": \"el49994657466000\", \"dasharray\": \"none\", \"alpha\": 1, \"facecolor\": \"#F17C40\", \"edgecolor\": \"none\", \"edgewidth\": 1.0, \"zorder\": 2}, {\"data\": \"data16\", \"xindex\": 0, \"yindex\": 1, \"coordinates\": \"data\", \"pathcodes\": [\"M\", \"L\", \"L\", \"L\", \"Z\"], \"id\": \"el49994645037840\", \"dasharray\": \"none\", \"alpha\": 1, \"facecolor\": \"#F17C40\", \"edgecolor\": \"none\", \"edgewidth\": 1.0, \"zorder\": 2}, {\"data\": \"data17\", \"xindex\": 0, \"yindex\": 1, \"coordinates\": \"data\", \"pathcodes\": [\"M\", \"L\", \"L\", \"L\", \"Z\"], \"id\": \"el49994658081632\", \"dasharray\": \"none\", \"alpha\": 1, \"facecolor\": \"#F17C40\", \"edgecolor\": \"none\", \"edgewidth\": 1.0, \"zorder\": 2}, {\"data\": \"data18\", \"xindex\": 0, \"yindex\": 1, \"coordinates\": \"data\", \"pathcodes\": [\"M\", \"L\", \"L\", \"L\", \"Z\"], \"id\": \"el49994658124896\", \"dasharray\": \"none\", \"alpha\": 1, \"facecolor\": \"#F17C40\", \"edgecolor\": \"none\", \"edgewidth\": 1.0, \"zorder\": 2}, {\"data\": \"data12\", \"xindex\": 2, \"yindex\": 1, \"coordinates\": \"data\", \"pathcodes\": [\"M\", \"L\", \"L\", \"L\", \"Z\"], \"id\": \"el49994658151720\", \"dasharray\": \"none\", \"alpha\": 1, \"facecolor\": \"#F17C40\", \"edgecolor\": \"none\", \"edgewidth\": 1.0, \"zorder\": 2}, {\"data\": \"data18\", \"xindex\": 2, \"yindex\": 1, \"coordinates\": \"data\", \"pathcodes\": [\"M\", \"L\", \"L\", \"L\", \"Z\"], \"id\": \"el49994658154016\", \"dasharray\": \"none\", \"alpha\": 1, \"facecolor\": \"#F17C40\", \"edgecolor\": \"none\", \"edgewidth\": 1.0, \"zorder\": 2}, {\"data\": \"data09\", \"xindex\": 2, \"yindex\": 1, \"coordinates\": \"data\", \"pathcodes\": [\"M\", \"L\", \"L\", \"L\", \"Z\"], \"id\": \"el49994658184936\", \"dasharray\": \"none\", \"alpha\": 1, \"facecolor\": \"#F17C40\", \"edgecolor\": \"none\", \"edgewidth\": 1.0, \"zorder\": 2}], \"markers\": [], \"texts\": [], \"collections\": [], \"images\": [], \"sharex\": [], \"sharey\": []}], \"data\": {\"data01\": [[-0.245, 0.0], [0.0050000000000000044, 0.0], [0.0050000000000000044, 1100000.0], [-0.245, 1100000.0]], \"data02\": [[0.755, 0.0], [1.005, 0.0], [1.005, 520000.0], [0.755, 520000.0]], \"data03\": [[1.755, 0.0, 8.755], [2.005, 0.0, 9.005], [2.005, 200000.0, 9.005], [1.755, 200000.0, 8.755]], \"data04\": [[2.755, 0.0], [3.005, 0.0], [3.005, 2600000.0], [2.755, 2600000.0]], \"data05\": [[3.755, 0.0], [4.005, 0.0], [4.005, 1900000.0], [3.755, 1900000.0]], \"data06\": [[4.755, 0.0, 5.755], [5.005, 0.0, 6.005], [5.005, 420000.0, 6.005], [4.755, 420000.0, 5.755]], \"data07\": [[6.755, 0.0], [7.005, 0.0], [7.005, 2400000.0], [6.755, 2400000.0]], \"data08\": [[7.755, 0.0, 9.755], [8.004999999999999, 0.0, 10.005], [8.004999999999999, 970000.0, 10.005], [7.755, 970000.0, 9.755]], \"data09\": [[10.755, 0.0, 10.995], [11.005, 0.0, 11.245], [11.005, 300000.0, 11.245], [10.755, 300000.0, 10.995]], \"data10\": [[-0.0050000000000000044, 0.0], [0.245, 0.0], [0.245, 1000000.0], [-0.0050000000000000044, 1000000.0]], \"data11\": [[0.9950000000000001, 0.0], [1.245, 0.0], [1.245, 530000.0], [0.9950000000000001, 530000.0]], \"data12\": [[1.995, 0.0, 8.995], [2.245, 0.0, 9.245], [2.245, 210000.0, 9.245], [1.995, 210000.0, 8.995]], \"data13\": [[2.995, 0.0], [3.245, 0.0], [3.245, 3300000.0], [2.995, 3300000.0]], \"data14\": [[3.995, 0.0], [4.245, 0.0], [4.245, 1850000.0], [3.995, 1850000.0]], \"data15\": [[4.995, 0.0], [5.245, 0.0], [5.245, 450000.0], [4.995, 450000.0]], \"data16\": [[5.995, 0.0], [6.245, 0.0], [6.245, 410000.0], [5.995, 410000.0]], \"data17\": [[6.995, 0.0], [7.245, 0.0], [7.245, 2700000.0], [6.995, 2700000.0]], \"data18\": [[7.994999999999999, 0.0, 9.995], [8.245, 0.0, 10.245], [8.245, 1300000.0, 10.245], [7.994999999999999, 1300000.0, 9.995]]}, \"id\": \"el49994655030960\", \"plugins\": [{\"type\": \"reset\"}, {\"type\": \"zoom\", \"button\": true, \"enabled\": false}, {\"type\": \"boxzoom\", \"button\": true, \"enabled\": false}]});\n",
       "      });\n",
       "    });\n",
       "}else{\n",
       "    // require.js not available: dynamically load d3 & mpld3\n",
       "    mpld3_load_lib(\"https://mpld3.github.io/js/d3.v3.min.js\", function(){\n",
       "         mpld3_load_lib(\"https://mpld3.github.io/js/mpld3.v0.3.js\", function(){\n",
       "                 \n",
       "                 mpld3.draw_figure(\"fig_el499946550309601212597226\", {\"width\": 1080.0, \"height\": 432.0, \"axes\": [{\"bbox\": [0.125, 0.125, 0.775, 0.755], \"xlim\": [-0.8194999999999999, 11.8195], \"ylim\": [0.0, 3465000.0], \"xdomain\": [-0.8194999999999999, 11.8195], \"ydomain\": [0.0, 3465000.0], \"xscale\": \"linear\", \"yscale\": \"linear\", \"axes\": [{\"position\": \"bottom\", \"nticks\": 12, \"tickvalues\": [0, 1, 2, 3, 4, 5, 6, 7, 8, 9, 10, 11], \"tickformat\": [\"Accounts Payable\", \"Accounts Receivable\", \"Asset Management\", \"Budgeting\", \"Contract Management and Procurement\", \"Credit Card Management\", \"Financial Policy and Advice\", \"Financial Reporting\", \"Ledger Management\", \"Taxation\", \"Travel\", \"Treasury\"], \"scale\": \"linear\", \"fontsize\": 14.0, \"grid\": {\"gridOn\": false}, \"visible\": true}, {\"position\": \"left\", \"nticks\": 8, \"tickvalues\": null, \"tickformat\": null, \"scale\": \"linear\", \"fontsize\": 14.0, \"grid\": {\"gridOn\": false}, \"visible\": true}], \"axesbg\": \"#FFFFFF\", \"axesbgalpha\": null, \"zoomable\": true, \"id\": \"el49994655489656\", \"lines\": [], \"paths\": [{\"data\": \"data01\", \"xindex\": 0, \"yindex\": 1, \"coordinates\": \"data\", \"pathcodes\": [\"M\", \"L\", \"L\", \"L\", \"Z\"], \"id\": \"el49994657806864\", \"dasharray\": \"none\", \"alpha\": 1, \"facecolor\": \"#579CD0\", \"edgecolor\": \"none\", \"edgewidth\": 1.0, \"zorder\": 2}, {\"data\": \"data02\", \"xindex\": 0, \"yindex\": 1, \"coordinates\": \"data\", \"pathcodes\": [\"M\", \"L\", \"L\", \"L\", \"Z\"], \"id\": \"el49994657845528\", \"dasharray\": \"none\", \"alpha\": 1, \"facecolor\": \"#579CD0\", \"edgecolor\": \"none\", \"edgewidth\": 1.0, \"zorder\": 2}, {\"data\": \"data03\", \"xindex\": 0, \"yindex\": 1, \"coordinates\": \"data\", \"pathcodes\": [\"M\", \"L\", \"L\", \"L\", \"Z\"], \"id\": \"el49994657847824\", \"dasharray\": \"none\", \"alpha\": 1, \"facecolor\": \"#579CD0\", \"edgecolor\": \"none\", \"edgewidth\": 1.0, \"zorder\": 2}, {\"data\": \"data04\", \"xindex\": 0, \"yindex\": 1, \"coordinates\": \"data\", \"pathcodes\": [\"M\", \"L\", \"L\", \"L\", \"Z\"], \"id\": \"el49994657870608\", \"dasharray\": \"none\", \"alpha\": 1, \"facecolor\": \"#579CD0\", \"edgecolor\": \"none\", \"edgewidth\": 1.0, \"zorder\": 2}, {\"data\": \"data05\", \"xindex\": 0, \"yindex\": 1, \"coordinates\": \"data\", \"pathcodes\": [\"M\", \"L\", \"L\", \"L\", \"Z\"], \"id\": \"el49994657872848\", \"dasharray\": \"none\", \"alpha\": 1, \"facecolor\": \"#579CD0\", \"edgecolor\": \"none\", \"edgewidth\": 1.0, \"zorder\": 2}, {\"data\": \"data06\", \"xindex\": 0, \"yindex\": 1, \"coordinates\": \"data\", \"pathcodes\": [\"M\", \"L\", \"L\", \"L\", \"Z\"], \"id\": \"el49994657907920\", \"dasharray\": \"none\", \"alpha\": 1, \"facecolor\": \"#579CD0\", \"edgecolor\": \"none\", \"edgewidth\": 1.0, \"zorder\": 2}, {\"data\": \"data06\", \"xindex\": 2, \"yindex\": 1, \"coordinates\": \"data\", \"pathcodes\": [\"M\", \"L\", \"L\", \"L\", \"Z\"], \"id\": \"el49994657947032\", \"dasharray\": \"none\", \"alpha\": 1, \"facecolor\": \"#579CD0\", \"edgecolor\": \"none\", \"edgewidth\": 1.0, \"zorder\": 2}, {\"data\": \"data07\", \"xindex\": 0, \"yindex\": 1, \"coordinates\": \"data\", \"pathcodes\": [\"M\", \"L\", \"L\", \"L\", \"Z\"], \"id\": \"el49994657949328\", \"dasharray\": \"none\", \"alpha\": 1, \"facecolor\": \"#579CD0\", \"edgecolor\": \"none\", \"edgewidth\": 1.0, \"zorder\": 2}, {\"data\": \"data08\", \"xindex\": 0, \"yindex\": 1, \"coordinates\": \"data\", \"pathcodes\": [\"M\", \"L\", \"L\", \"L\", \"Z\"], \"id\": \"el49994657976152\", \"dasharray\": \"none\", \"alpha\": 1, \"facecolor\": \"#579CD0\", \"edgecolor\": \"none\", \"edgewidth\": 1.0, \"zorder\": 2}, {\"data\": \"data03\", \"xindex\": 2, \"yindex\": 1, \"coordinates\": \"data\", \"pathcodes\": [\"M\", \"L\", \"L\", \"L\", \"Z\"], \"id\": \"el49994657978448\", \"dasharray\": \"none\", \"alpha\": 1, \"facecolor\": \"#579CD0\", \"edgecolor\": \"none\", \"edgewidth\": 1.0, \"zorder\": 2}, {\"data\": \"data08\", \"xindex\": 2, \"yindex\": 1, \"coordinates\": \"data\", \"pathcodes\": [\"M\", \"L\", \"L\", \"L\", \"Z\"], \"id\": \"el49994658005272\", \"dasharray\": \"none\", \"alpha\": 1, \"facecolor\": \"#579CD0\", \"edgecolor\": \"none\", \"edgewidth\": 1.0, \"zorder\": 2}, {\"data\": \"data09\", \"xindex\": 0, \"yindex\": 1, \"coordinates\": \"data\", \"pathcodes\": [\"M\", \"L\", \"L\", \"L\", \"Z\"], \"id\": \"el49994658007568\", \"dasharray\": \"none\", \"alpha\": 1, \"facecolor\": \"#579CD0\", \"edgecolor\": \"none\", \"edgewidth\": 1.0, \"zorder\": 2}, {\"data\": \"data10\", \"xindex\": 0, \"yindex\": 1, \"coordinates\": \"data\", \"pathcodes\": [\"M\", \"L\", \"L\", \"L\", \"Z\"], \"id\": \"el49994658034448\", \"dasharray\": \"none\", \"alpha\": 1, \"facecolor\": \"#F17C40\", \"edgecolor\": \"none\", \"edgewidth\": 1.0, \"zorder\": 2}, {\"data\": \"data11\", \"xindex\": 0, \"yindex\": 1, \"coordinates\": \"data\", \"pathcodes\": [\"M\", \"L\", \"L\", \"L\", \"Z\"], \"id\": \"el49994658036464\", \"dasharray\": \"none\", \"alpha\": 1, \"facecolor\": \"#F17C40\", \"edgecolor\": \"none\", \"edgewidth\": 1.0, \"zorder\": 2}, {\"data\": \"data12\", \"xindex\": 0, \"yindex\": 1, \"coordinates\": \"data\", \"pathcodes\": [\"M\", \"L\", \"L\", \"L\", \"Z\"], \"id\": \"el49994657560152\", \"dasharray\": \"none\", \"alpha\": 1, \"facecolor\": \"#F17C40\", \"edgecolor\": \"none\", \"edgewidth\": 1.0, \"zorder\": 2}, {\"data\": \"data13\", \"xindex\": 0, \"yindex\": 1, \"coordinates\": \"data\", \"pathcodes\": [\"M\", \"L\", \"L\", \"L\", \"Z\"], \"id\": \"el49994655557880\", \"dasharray\": \"none\", \"alpha\": 1, \"facecolor\": \"#F17C40\", \"edgecolor\": \"none\", \"edgewidth\": 1.0, \"zorder\": 2}, {\"data\": \"data14\", \"xindex\": 0, \"yindex\": 1, \"coordinates\": \"data\", \"pathcodes\": [\"M\", \"L\", \"L\", \"L\", \"Z\"], \"id\": \"el49994657465888\", \"dasharray\": \"none\", \"alpha\": 1, \"facecolor\": \"#F17C40\", \"edgecolor\": \"none\", \"edgewidth\": 1.0, \"zorder\": 2}, {\"data\": \"data15\", \"xindex\": 0, \"yindex\": 1, \"coordinates\": \"data\", \"pathcodes\": [\"M\", \"L\", \"L\", \"L\", \"Z\"], \"id\": \"el49994657466000\", \"dasharray\": \"none\", \"alpha\": 1, \"facecolor\": \"#F17C40\", \"edgecolor\": \"none\", \"edgewidth\": 1.0, \"zorder\": 2}, {\"data\": \"data16\", \"xindex\": 0, \"yindex\": 1, \"coordinates\": \"data\", \"pathcodes\": [\"M\", \"L\", \"L\", \"L\", \"Z\"], \"id\": \"el49994645037840\", \"dasharray\": \"none\", \"alpha\": 1, \"facecolor\": \"#F17C40\", \"edgecolor\": \"none\", \"edgewidth\": 1.0, \"zorder\": 2}, {\"data\": \"data17\", \"xindex\": 0, \"yindex\": 1, \"coordinates\": \"data\", \"pathcodes\": [\"M\", \"L\", \"L\", \"L\", \"Z\"], \"id\": \"el49994658081632\", \"dasharray\": \"none\", \"alpha\": 1, \"facecolor\": \"#F17C40\", \"edgecolor\": \"none\", \"edgewidth\": 1.0, \"zorder\": 2}, {\"data\": \"data18\", \"xindex\": 0, \"yindex\": 1, \"coordinates\": \"data\", \"pathcodes\": [\"M\", \"L\", \"L\", \"L\", \"Z\"], \"id\": \"el49994658124896\", \"dasharray\": \"none\", \"alpha\": 1, \"facecolor\": \"#F17C40\", \"edgecolor\": \"none\", \"edgewidth\": 1.0, \"zorder\": 2}, {\"data\": \"data12\", \"xindex\": 2, \"yindex\": 1, \"coordinates\": \"data\", \"pathcodes\": [\"M\", \"L\", \"L\", \"L\", \"Z\"], \"id\": \"el49994658151720\", \"dasharray\": \"none\", \"alpha\": 1, \"facecolor\": \"#F17C40\", \"edgecolor\": \"none\", \"edgewidth\": 1.0, \"zorder\": 2}, {\"data\": \"data18\", \"xindex\": 2, \"yindex\": 1, \"coordinates\": \"data\", \"pathcodes\": [\"M\", \"L\", \"L\", \"L\", \"Z\"], \"id\": \"el49994658154016\", \"dasharray\": \"none\", \"alpha\": 1, \"facecolor\": \"#F17C40\", \"edgecolor\": \"none\", \"edgewidth\": 1.0, \"zorder\": 2}, {\"data\": \"data09\", \"xindex\": 2, \"yindex\": 1, \"coordinates\": \"data\", \"pathcodes\": [\"M\", \"L\", \"L\", \"L\", \"Z\"], \"id\": \"el49994658184936\", \"dasharray\": \"none\", \"alpha\": 1, \"facecolor\": \"#F17C40\", \"edgecolor\": \"none\", \"edgewidth\": 1.0, \"zorder\": 2}], \"markers\": [], \"texts\": [], \"collections\": [], \"images\": [], \"sharex\": [], \"sharey\": []}], \"data\": {\"data01\": [[-0.245, 0.0], [0.0050000000000000044, 0.0], [0.0050000000000000044, 1100000.0], [-0.245, 1100000.0]], \"data02\": [[0.755, 0.0], [1.005, 0.0], [1.005, 520000.0], [0.755, 520000.0]], \"data03\": [[1.755, 0.0, 8.755], [2.005, 0.0, 9.005], [2.005, 200000.0, 9.005], [1.755, 200000.0, 8.755]], \"data04\": [[2.755, 0.0], [3.005, 0.0], [3.005, 2600000.0], [2.755, 2600000.0]], \"data05\": [[3.755, 0.0], [4.005, 0.0], [4.005, 1900000.0], [3.755, 1900000.0]], \"data06\": [[4.755, 0.0, 5.755], [5.005, 0.0, 6.005], [5.005, 420000.0, 6.005], [4.755, 420000.0, 5.755]], \"data07\": [[6.755, 0.0], [7.005, 0.0], [7.005, 2400000.0], [6.755, 2400000.0]], \"data08\": [[7.755, 0.0, 9.755], [8.004999999999999, 0.0, 10.005], [8.004999999999999, 970000.0, 10.005], [7.755, 970000.0, 9.755]], \"data09\": [[10.755, 0.0, 10.995], [11.005, 0.0, 11.245], [11.005, 300000.0, 11.245], [10.755, 300000.0, 10.995]], \"data10\": [[-0.0050000000000000044, 0.0], [0.245, 0.0], [0.245, 1000000.0], [-0.0050000000000000044, 1000000.0]], \"data11\": [[0.9950000000000001, 0.0], [1.245, 0.0], [1.245, 530000.0], [0.9950000000000001, 530000.0]], \"data12\": [[1.995, 0.0, 8.995], [2.245, 0.0, 9.245], [2.245, 210000.0, 9.245], [1.995, 210000.0, 8.995]], \"data13\": [[2.995, 0.0], [3.245, 0.0], [3.245, 3300000.0], [2.995, 3300000.0]], \"data14\": [[3.995, 0.0], [4.245, 0.0], [4.245, 1850000.0], [3.995, 1850000.0]], \"data15\": [[4.995, 0.0], [5.245, 0.0], [5.245, 450000.0], [4.995, 450000.0]], \"data16\": [[5.995, 0.0], [6.245, 0.0], [6.245, 410000.0], [5.995, 410000.0]], \"data17\": [[6.995, 0.0], [7.245, 0.0], [7.245, 2700000.0], [6.995, 2700000.0]], \"data18\": [[7.994999999999999, 0.0, 9.995], [8.245, 0.0, 10.245], [8.245, 1300000.0, 10.245], [7.994999999999999, 1300000.0, 9.995]]}, \"id\": \"el49994655030960\", \"plugins\": [{\"type\": \"reset\"}, {\"type\": \"zoom\", \"button\": true, \"enabled\": false}, {\"type\": \"boxzoom\", \"button\": true, \"enabled\": false}]});\n",
       "            })\n",
       "         });\n",
       "}\n",
       "</script>"
      ],
      "text/plain": [
       "<IPython.core.display.HTML object>"
      ]
     },
     "execution_count": 9,
     "metadata": {},
     "output_type": "execute_result"
    }
   ],
   "source": [
    "# Initialize figure and axes\n",
    "fig, ax = plt.subplots(nrows=1, ncols=1)\n",
    "\n",
    "pos = range(len(df[df['Financial Year'] == '2015-16']))\n",
    "width = 0.25\n",
    "\n",
    "group1 = df[df['Financial Year'] == '2014-15']['Sum of Total']\n",
    "group2 = df[df['Financial Year'] == '2015-16']['Sum of Total']\n",
    "\n",
    "ax.bar([x - 0.12 for x in pos], group1, color='#579cd0', width=width, zorder=2)\n",
    "ax.bar([x + 0.12 for x in pos], group2, color='#f17c40', width=width, zorder=2)\n",
    "\n",
    "# Set chart properties and formatting\n",
    "fig.set_size_inches(15,6)\n",
    "#ax.yaxis.set_major_formatter(FuncFormatter(lambda x,pos: '${:,.0f}'.format(x)))\n",
    "ax.tick_params(axis='y', which='major', labelsize=14, labelcolor='#4373bf', length=0)\n",
    "ax.tick_params(axis='x', which='major', labelsize=14, length=0)\n",
    "\n",
    "xlabels = df['Service classification'].unique()\n",
    "ax.set_xticks(range(len(xlabels)))\n",
    "ax.set_xticklabels(xlabels)\n",
    "\"\"\"\n",
    "xlabels = df['Service classification'].unique()\n",
    "xlabels = [x.replace(' ', '\\n') for x in xlabels]\n",
    "ax.set_xticklabels([], position=(0,-0.04), clip_on=True)\n",
    "ax.spines['top'].set_visible(False)\n",
    "ax.spines['right'].set_visible(False)\n",
    "ax.spines['left'].set_visible(False)\n",
    "ax.spines['bottom'].set_visible(False)\n",
    "ax.yaxis.grid(color='lightgray', linewidth=2)\n",
    "\n",
    "# Draw the legend\n",
    "patch1 = mpatches.Patch(color='#579cd0', label='2014-15', linewidth=4)\n",
    "patch2 = mpatches.Patch(color='#f17c40', label='2015-16', linewidth=4)\n",
    "ax.legend(handles=[patch1, patch2], frameon=False, loc='center right', bbox_to_anchor=(1.15, 0.5))\n",
    "ax.set_ylim(0, 3500000)\n",
    "\n",
    "# Data table\n",
    "df2 = pd.DataFrame([], columns=xlabels)\n",
    "df2.loc['2014-15'] = df[df['Financial Year'] == '2014-15']['Sum of Total'].map('${:,.0f}'.format).values\n",
    "df2.loc['2015-16'] = df[df['Financial Year'] == '2015-16']['Sum of Total'].map('${:,.0f}'.format).values\n",
    "data_table = ax.table(cellText=df2.as_matrix(), colLabels=xlabels, rowLabels=['2014-15', '2015-16'], loc='bottom')\n",
    "data_table.auto_set_font_size(False) \n",
    "data_table.set_fontsize(9.5)\n",
    "\n",
    "# Adjust cell heights\n",
    "data_table.scale(1,1.4)\n",
    "cells = data_table.get_celld()\n",
    "for x,y in cells:\n",
    "    cell = cells[(x,y)]\n",
    "    if x == 0:\n",
    "        cell.set_height(0.2)\n",
    "    cell.set_linewidth(0.5)\n",
    "    cell.set_linestyle('dashed')\n",
    "    \n",
    "# Write to a file\n",
    "#fig.savefig('../../reports/figures/mock/wog_overview_level3_FY-ALL.pdf', bbox_inches='tight')\n",
    "\"\"\"\n",
    "mpld3.display(fig)"
   ]
  }
 ],
 "metadata": {
  "kernelspec": {
   "display_name": "Python 3",
   "language": "python",
   "name": "python3"
  },
  "language_info": {
   "codemirror_mode": {
    "name": "ipython",
    "version": 3
   },
   "file_extension": ".py",
   "mimetype": "text/x-python",
   "name": "python",
   "nbconvert_exporter": "python",
   "pygments_lexer": "ipython3",
   "version": "3.6.1"
  }
 },
 "nbformat": 4,
 "nbformat_minor": 2
}
