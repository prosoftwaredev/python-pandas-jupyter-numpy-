{
 "cells": [
  {
   "cell_type": "code",
   "execution_count": 2,
   "metadata": {
    "collapsed": true
   },
   "outputs": [],
   "source": [
    "%matplotlib inline\n",
    "from matplotlib.ticker import FuncFormatter\n",
    "import matplotlib.patches as mpatches\n",
    "import matplotlib.pyplot as plt\n",
    "import pandas as pd"
   ]
  },
  {
   "cell_type": "code",
   "execution_count": 3,
   "metadata": {
    "collapsed": true
   },
   "outputs": [],
   "source": [
    "input_csv = '../../data/mock/wog_overview_level1.csv'\n",
    "df = pd.read_csv(input_csv)"
   ]
  },
  {
   "cell_type": "code",
   "execution_count": 4,
   "metadata": {},
   "outputs": [
    {
     "name": "stdout",
     "output_type": "stream",
     "text": [
      "  Service Classification  Sum of Total Financial Year\n",
      "0     Corporate Services     500000000        2014-15\n",
      "1     Corporate Services     600000000        2015-16\n",
      "2            HR Services     300000000        2014-15\n",
      "3            HR Services     340000000        2015-16\n",
      "4     Financial Services     230000000        2014-15\n",
      "5     Financial Services     300000000        2015-16\n",
      "6         Major Projects      50000000        2014-15\n",
      "7         Major Projects      60000000        2015-16\n",
      "8                    ERP      70000000        2014-15\n",
      "9                    ERP      30000000        2015-16\n"
     ]
    }
   ],
   "source": [
    "print(df)"
   ]
  },
  {
   "cell_type": "code",
   "execution_count": 5,
   "metadata": {},
   "outputs": [
    {
     "data": {
      "text/html": [
       "<style>.container { width:100% !important; }</style>"
      ],
      "text/plain": [
       "<IPython.core.display.HTML object>"
      ]
     },
     "metadata": {},
     "output_type": "display_data"
    },
    {
     "data": {
      "image/png": "[encoded data removed]",
      "text/plain": [
       "<matplotlib.figure.Figure at 0x10efe02e8>"
      ]
     },
     "metadata": {},
     "output_type": "display_data"
    }
   ],
   "source": [
    "# Initialize figure and axes\n",
    "fig, ax = plt.subplots(nrows=1, ncols=1)\n",
    "\n",
    "pos = range(len(df[df['Financial Year'] == '2015-16']))\n",
    "width = 0.25\n",
    "\n",
    "group1 = df[df['Financial Year'] == '2014-15']['Sum of Total']\n",
    "group2 = df[df['Financial Year'] == '2015-16']['Sum of Total']\n",
    "\n",
    "ax.bar([x - 0.13 for x in pos], group1, color='#579cd0', width=width, linewidth=4, edgecolor='#579cd0', zorder=2)\n",
    "ax.bar([x + 0.13 for x in pos], group2, color='#f17c40', width=width, linewidth=4, edgecolor='#579cd0', zorder=2)\n",
    "\n",
    "# Set chart properties and formatting\n",
    "fig.set_size_inches(15,6)\n",
    "ax.yaxis.set_major_formatter(FuncFormatter(lambda x,pos: '${:,.0f}'.format(x)))\n",
    "ax.tick_params(axis='y', which='major', labelsize=14, labelcolor='#4373bf', length=0)\n",
    "ax.tick_params(axis='x', which='major', labelsize=14, labelcolor='#1c4f76', length=0)\n",
    "ax.set_xticks([p for p in pos])\n",
    "xlabels = df['Service classification'].unique()\n",
    "ax.set_xticklabels(xlabels, fontweight='semibold', position=(0,-0.04))\n",
    "ax.spines['top'].set_visible(False)\n",
    "ax.spines['right'].set_visible(False)\n",
    "ax.spines['left'].set_visible(False)\n",
    "ax.spines['bottom'].set_visible(False)\n",
    "ax.yaxis.grid(color='lightgray', linewidth=2)\n",
    "\n",
    "# Draw the legend\n",
    "patch1 = mpatches.Patch(color='#579cd0', label='2014-15', linewidth=4)\n",
    "patch2 = mpatches.Patch(color='#f17c40', label='2015-16', linewidth=4)\n",
    "ax.legend(handles=[patch1, patch2], frameon=False, loc='center right', bbox_to_anchor=(1.15, 0.5))\n",
    "ax.set_ylim(0, 700000000)\n",
    "\n",
    "# Write to a file\n",
    "fig.savefig('../../reports/figures/mock/wog_overview_level1.pdf', bbox_inches='tight')"
   ]
  },
  {
   "cell_type": "code",
   "execution_count": null,
   "metadata": {
    "collapsed": true
   },
   "outputs": [],
   "source": []
  }
 ],
 "metadata": {
  "kernelspec": {
   "display_name": "Python 3",
   "language": "python",
   "name": "python3"
  },
  "language_info": {
   "codemirror_mode": {
    "name": "ipython",
    "version": 3
   },
   "file_extension": ".py",
   "mimetype": "text/x-python",
   "name": "python",
   "nbconvert_exporter": "python",
   "pygments_lexer": "ipython3",
   "version": "3.6.1"
  }
 },
 "nbformat": 4,
 "nbformat_minor": 2
}
